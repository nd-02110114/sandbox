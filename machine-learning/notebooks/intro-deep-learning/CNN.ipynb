{
 "cells": [
  {
   "cell_type": "markdown",
   "metadata": {},
   "source": [
    "# 7章 CNN(畳み込みニューラルネットワーク)"
   ]
  },
  {
   "cell_type": "markdown",
   "metadata": {},
   "source": [
    "## Numpy 補足\n",
    "### Transpose\n",
    "配列の形を変形する"
   ]
  },
  {
   "cell_type": "code",
   "execution_count": 53,
   "metadata": {},
   "outputs": [
    {
     "name": "stdout",
     "output_type": "stream",
     "text": [
      "[[[1 2 3]]\n",
      "\n",
      " [[4 5 6]]]\n",
      "(2, 1, 3)\n"
     ]
    }
   ],
   "source": [
    "import numpy as np\n",
    "np_mat = np.array([[[1,2,3]],[[4,5,6]]])\n",
    "print(np_mat)\n",
    "print(np_mat.shape) #=> (2, 1, 3)"
   ]
  },
  {
   "cell_type": "code",
   "execution_count": 52,
   "metadata": {},
   "outputs": [
    {
     "name": "stdout",
     "output_type": "stream",
     "text": [
      "(1, 2, 3)\n",
      "[[[1 2 3]\n",
      "  [4 5 6]]]\n"
     ]
    }
   ],
   "source": [
    "transposed = np_mat.transpose(1,0, 2)\n",
    "print(transposed.shape) #=> (1,2,3)\n",
    "print(transposed)"
   ]
  },
  {
   "cell_type": "markdown",
   "metadata": {},
   "source": [
    "## Reshape\n",
    "### 配列アクセスの復習\n",
    "\n"
   ]
  },
  {
   "cell_type": "code",
   "execution_count": 61,
   "metadata": {},
   "outputs": [
    {
     "name": "stdout",
     "output_type": "stream",
     "text": [
      "[2 3 4 5]\n"
     ]
    }
   ],
   "source": [
    "np_ar = np.array([1,2,3,4,5,6,7,8])\n",
    "print(np_ar[1:5] )#=> array([2, 3, 4, 5])"
   ]
  },
  {
   "cell_type": "code",
   "execution_count": 57,
   "metadata": {},
   "outputs": [
    {
     "name": "stdout",
     "output_type": "stream",
     "text": [
      "[1 3 5]\n"
     ]
    }
   ],
   "source": [
    "# 0番目から6番目までを２つおきに\n",
    "print(np_ar[0:6:2]) #=> array([1, 3, 5])"
   ]
  },
  {
   "cell_type": "code",
   "execution_count": 58,
   "metadata": {},
   "outputs": [
    {
     "name": "stdout",
     "output_type": "stream",
     "text": [
      "[1 2 3 4 5 6 7 8]\n"
     ]
    }
   ],
   "source": [
    "# すべて取得\n",
    "print(np_ar[:]) #=> array([1, 2, 3, 4, 5, 6, 7, 8])"
   ]
  },
  {
   "cell_type": "code",
   "execution_count": 59,
   "metadata": {},
   "outputs": [
    {
     "name": "stdout",
     "output_type": "stream",
     "text": [
      "[2 3 4 5 6 7]\n"
     ]
    }
   ],
   "source": [
    "# 負のインデックスを指定\n",
    "print(np_ar[1:-1]) #=> array([2, 3, 4, 5, 6, 7])"
   ]
  },
  {
   "cell_type": "code",
   "execution_count": 62,
   "metadata": {},
   "outputs": [
    {
     "name": "stdout",
     "output_type": "stream",
     "text": [
      "(2, 3)\n"
     ]
    }
   ],
   "source": [
    "np_mat = np.array([[1,2,3],[4,5,6]])\n",
    "print(np_mat.shape) #=> (2, 3)"
   ]
  },
  {
   "cell_type": "code",
   "execution_count": 63,
   "metadata": {},
   "outputs": [
    {
     "name": "stdout",
     "output_type": "stream",
     "text": [
      "(3, 2)\n",
      "[[1 2]\n",
      " [3 4]\n",
      " [5 6]]\n"
     ]
    }
   ],
   "source": [
    "reshaped_mat = np_mat.reshape(3, 2)\n",
    "print(reshaped_mat.shape) #=> (3, 2)\n",
    "print(reshaped_mat)"
   ]
  },
  {
   "cell_type": "code",
   "execution_count": 64,
   "metadata": {},
   "outputs": [
    {
     "ename": "ValueError",
     "evalue": "cannot reshape array of size 6 into shape (1,2)",
     "output_type": "error",
     "traceback": [
      "\u001b[0;31m\u001b[0m",
      "\u001b[0;31mValueError\u001b[0mTraceback (most recent call last)",
      "\u001b[0;32m<ipython-input-64-0b791234841d>\u001b[0m in \u001b[0;36m<module>\u001b[0;34m()\u001b[0m\n\u001b[1;32m      1\u001b[0m \u001b[0;31m# reshapeは、配列の中にある数字の個数を変更することはできないことがポイント\u001b[0m\u001b[0;34m\u001b[0m\u001b[0;34m\u001b[0m\u001b[0m\n\u001b[0;32m----> 2\u001b[0;31m \u001b[0mreshaped_mat_error\u001b[0m \u001b[0;34m=\u001b[0m \u001b[0mreshaped_mat\u001b[0m\u001b[0;34m.\u001b[0m\u001b[0mreshape\u001b[0m\u001b[0;34m(\u001b[0m\u001b[0;36m1\u001b[0m\u001b[0;34m,\u001b[0m \u001b[0;36m2\u001b[0m\u001b[0;34m)\u001b[0m\u001b[0;34m\u001b[0m\u001b[0m\n\u001b[0m",
      "\u001b[0;31mValueError\u001b[0m: cannot reshape array of size 6 into shape (1,2)"
     ]
    }
   ],
   "source": [
    "# reshapeは、配列の中にある数字の個数を変更することはできないことがポイント\n",
    "# 2×3=6 と 1×2=2を比較してもおかしい\n",
    "reshaped_mat_error = reshaped_mat.reshape(1, 2)"
   ]
  },
  {
   "cell_type": "code",
   "execution_count": 69,
   "metadata": {},
   "outputs": [
    {
     "name": "stdout",
     "output_type": "stream",
     "text": [
      "array([[[1, 2, 3],\n",
      "        [4, 5, 6]]])\n"
     ]
    }
   ],
   "source": [
    "# -1を追加することで、綺麗な形に変換できることもある\n",
    "from prettyprinter import cpprint\n",
    "reshaped_mat_no_error = reshaped_mat.reshape(1, 2, -1)\n",
    "cpprint(reshaped_mat_no_error)"
   ]
  },
  {
   "cell_type": "markdown",
   "metadata": {},
   "source": [
    "## 用語の説明\n",
    "\n",
    "* Convolution layer : 畳み込み層\n",
    "* 畳み込み演算  \n",
    "   ・・・入力データに対して、Fliter(kernel) を通した処理を行うこと  \n",
    "  * Padding : 入力データの周囲に固定データを埋め込むこと\n",
    "  * Stride : フィルターを適用する間隔\n",
    "* Pooling layer : プーリング層  \n",
    "   ・・・縦横の次元を減らす処理、特徴抽出の1手法  \n",
    "   * 学習するパラメータがない\n",
    "   * 微小な位置変化に対してロバスト(頑健)"
   ]
  },
  {
   "cell_type": "markdown",
   "metadata": {},
   "source": [
    "## AlexNet\n",
    "現在、メインとなっているCNNの一つ。以下の特徴がある。\n",
    "* 活性化関数にRelu関数を用いる\n",
    "* LRNという局所的正規化を行う層を実装する\n",
    "* Dropoutを使用する"
   ]
  },
  {
   "cell_type": "code",
   "execution_count": null,
   "metadata": {},
   "outputs": [],
   "source": []
  }
 ],
 "metadata": {
  "kernelspec": {
   "display_name": "Python 3",
   "language": "python",
   "name": "python3"
  },
  "language_info": {
   "codemirror_mode": {
    "name": "ipython",
    "version": 3
   },
   "file_extension": ".py",
   "mimetype": "text/x-python",
   "name": "python",
   "nbconvert_exporter": "python",
   "pygments_lexer": "ipython3",
   "version": "3.6.4"
  }
 },
 "nbformat": 4,
 "nbformat_minor": 2
}
