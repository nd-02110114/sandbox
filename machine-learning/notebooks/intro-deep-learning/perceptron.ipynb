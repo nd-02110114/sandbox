{
 "cells": [
  {
   "cell_type": "markdown",
   "metadata": {},
   "source": [
    "# 2 章 パーセプトロン\n",
    "## パーセプトロンとは\n",
    "* ２つの入力信号 (x1, x2) → １つの出力(0 or 1) → ・・・・・　\n",
    "* 入力信号にはそれぞれ重み (w1,w2) がつく. 　重み = 重要性\n",
    "* 0 or 1の判断値を閾値 (θ) という\n",
    "\n",
    "**重要な式**\n",
    "\n",
    "\\begin{eqnarray}\n",
    "y =\\left\\{ \\begin{array}{ll}\n",
    "1 & (w_{1}x_{1}+w_{2}x_{2} \\leqq \\theta  ) \\\\\n",
    "0 & (w_{1}x_{1}+w_{2}x_{2}  > \\theta  ) \\\\\n",
    "\\end{array} \\right.\n",
    "\\end{eqnarray}\n",
    "\n",
    "\n",
    "## 単純な論理回路\n",
    "\n",
    "*パラメータを変化させることで、論理回路は大きく変化する*\n",
    "\n",
    "### ANDゲート\n",
    "* ２つ入力が共に1の時だけ、1を出力. それ以外は、0を出力  \n",
    "* パラメータの選び方は無限   \n",
    "* etc) (w1, w2, θ) = (0.5, 0.5, 0.7), (1.0,1.0,1.0)\n",
    "\n",
    "| x1 | x2 | y |\n",
    "|:---:|:---:|:---:|\n",
    "| 0 | 0 | 0 |\n",
    "| 1 | 0 | 0 |\n",
    "| 0 | 1 | 0 |\n",
    "| 1 | 1 | 1 |\n",
    "\n",
    "### NANDゲート\n",
    "* Not ANDのこと. ANDゲートの真逆  \n",
    "* ２つの入力が共に１の時、0を出力. それ以外は、1を出力  \n",
    "* パラメータの選び方は無限  \n",
    "* ANDを実現するパラメータの符号を全て逆転させるだけで実現できる\n",
    "\n",
    "| x1 | x2 | y |\n",
    "|:---:|:---:|:---:|\n",
    "| 0 | 0 | 1 |\n",
    "| 1 | 0 | 1 |\n",
    "| 0 | 1 | 1 |\n",
    "| 1 | 1 | 0 |\n",
    "\n",
    "### ORゲート\n",
    "* 入力信号のどちらか一つが１であれば、出力は１になる\n",
    "\n",
    "\n",
    "| x1 | x2 | y |\n",
    "|:---:|:---:|:---:|\n",
    "| 0 | 0 | 0 |\n",
    "| 1 | 0 | 1 |\n",
    "| 0 | 1 | 1 |\n",
    "| 1 | 1 | 1 |\n",
    "\n",
    "### コラム\n",
    "学習とは・・・・・  \n",
    "> 以上のパラメータを決める作業をコンピュータにやらせる  \n",
    "学習データ (以上でいう真理表)と、パーセプトロンの構造を与えて、学習させる\n"
   ]
  },
  {
   "cell_type": "markdown",
   "metadata": {},
   "source": [
    "## パーセプトロンの実装\n",
    "### 簡単な実装 (ANDゲート)"
   ]
  },
  {
   "cell_type": "code",
   "execution_count": 27,
   "metadata": {
    "collapsed": true
   },
   "outputs": [],
   "source": [
    "def AND_BASE(x1, x2):\n",
    "    w1, w2, theta = 0.5, 0.5, 0.7\n",
    "    tmp = x1*w1 + x2*w2\n",
    "    if tmp <= theta:\n",
    "        return 0\n",
    "    elif tmp > theta:\n",
    "        return 1"
   ]
  },
  {
   "cell_type": "code",
   "execution_count": 32,
   "metadata": {},
   "outputs": [
    {
     "data": {
      "text/plain": [
       "0"
      ]
     },
     "execution_count": 32,
     "metadata": {},
     "output_type": "execute_result"
    }
   ],
   "source": [
    "AND_BASE(0, 0) # 0を出力"
   ]
  },
  {
   "cell_type": "code",
   "execution_count": 33,
   "metadata": {},
   "outputs": [
    {
     "data": {
      "text/plain": [
       "0"
      ]
     },
     "execution_count": 33,
     "metadata": {},
     "output_type": "execute_result"
    }
   ],
   "source": [
    "AND_BASE(1, 0) #0を出力"
   ]
  },
  {
   "cell_type": "code",
   "execution_count": 34,
   "metadata": {},
   "outputs": [
    {
     "data": {
      "text/plain": [
       "0"
      ]
     },
     "execution_count": 34,
     "metadata": {},
     "output_type": "execute_result"
    }
   ],
   "source": [
    "AND_BASE (0, 1) # 0を出力"
   ]
  },
  {
   "cell_type": "code",
   "execution_count": 35,
   "metadata": {
    "scrolled": true
   },
   "outputs": [
    {
     "data": {
      "text/plain": [
       "1"
      ]
     },
     "execution_count": 35,
     "metadata": {},
     "output_type": "execute_result"
    }
   ],
   "source": [
    "AND_BASE(1, 1) # 1を出力"
   ]
  },
  {
   "cell_type": "markdown",
   "metadata": {},
   "source": [
    "### 重みとバイアスの導入\n",
    "以前の式を式変形\n",
    "\n",
    "* θ → -b \n",
    "* b: バイアス\n",
    "* w1, w2: 重み\n",
    "\n",
    "\\begin{eqnarray}\n",
    "y =\\left\\{ \\begin{array}{ll}\n",
    "1 & (b + w_{1}x_{1}+w_{2}x_{2} \\leqq 0) \\\\\n",
    "0 & (b + w_{1}x_{1}+w_{2}x_{2} > 0) \\\\\n",
    "\\end{array} \\right.\n",
    "\\end{eqnarray}\n",
    "\n",
    "この式を用いて、ANDゲートの実装を試みる  \n",
    "まず、以下のテスト"
   ]
  },
  {
   "cell_type": "code",
   "execution_count": 7,
   "metadata": {},
   "outputs": [
    {
     "data": {
      "text/plain": [
       "array([ 0. ,  0.5])"
      ]
     },
     "execution_count": 7,
     "metadata": {},
     "output_type": "execute_result"
    }
   ],
   "source": [
    "import numpy as nu\n",
    "x = nu.array([0, 1])\n",
    "w = nu.array([0.5,0.5])\n",
    "b = -0.7\n",
    "w*x"
   ]
  },
  {
   "cell_type": "code",
   "execution_count": 8,
   "metadata": {},
   "outputs": [
    {
     "data": {
      "text/plain": [
       "0.5"
      ]
     },
     "execution_count": 8,
     "metadata": {},
     "output_type": "execute_result"
    }
   ],
   "source": [
    "nu.sum(w*x)"
   ]
  },
  {
   "cell_type": "code",
   "execution_count": 9,
   "metadata": {},
   "outputs": [
    {
     "data": {
      "text/plain": [
       "-0.19999999999999996"
      ]
     },
     "execution_count": 9,
     "metadata": {},
     "output_type": "execute_result"
    }
   ],
   "source": [
    "nu.sum(w*x)+b"
   ]
  },
  {
   "cell_type": "markdown",
   "metadata": {},
   "source": [
    "### 重みとバイアスによる実装"
   ]
  },
  {
   "cell_type": "code",
   "execution_count": 42,
   "metadata": {
    "collapsed": true
   },
   "outputs": [],
   "source": [
    "def AND(x1, x2):\n",
    "    x = nu.array([x1, x2])\n",
    "    w = nu.array([0.5,0.5])\n",
    "    b = -0.7\n",
    "    tmp = nu.sum(w*x) + b\n",
    "    if tmp <= 0:\n",
    "        return 0\n",
    "    else:\n",
    "        return 1\n",
    "    "
   ]
  },
  {
   "cell_type": "code",
   "execution_count": 47,
   "metadata": {
    "collapsed": true
   },
   "outputs": [],
   "source": [
    "def NAND(x1, x2):\n",
    "    x = nu.array([x1, x2])\n",
    "    w = nu.array([-0.5,-0.5])\n",
    "    b = 0.7\n",
    "    tmp = nu.sum(w*x) + b\n",
    "    if tmp <= 0:\n",
    "        return 0\n",
    "    else:\n",
    "        return 1"
   ]
  },
  {
   "cell_type": "code",
   "execution_count": 49,
   "metadata": {
    "collapsed": true
   },
   "outputs": [],
   "source": [
    "def OR(x1, x2):\n",
    "    x = nu.array([x1, x2])\n",
    "    w = nu.array([0.5, 0.5])\n",
    "    b= -0.2\n",
    "    tmp = nu.sum(w*x) + b\n",
    "    if tmp <= 0:\n",
    "        return 0\n",
    "    else:\n",
    "        return 1"
   ]
  },
  {
   "cell_type": "markdown",
   "metadata": {},
   "source": [
    "## パーセプトロンの限界\n",
    "### XORゲート\n",
    "* 排他的論理和\n",
    "* x1,x2のいずれかが１の時だけ、出力が１になる\n",
    "* **線形的**に、表現することができない(以下の図を参照)\n",
    "* **非線形的**に、O or 1の領域を分断することは可能\n",
    "\n",
    "| x1 | x2 | y |\n",
    "|:---:|:---:|:---:|\n",
    "| 0 | 0 | 0 |\n",
    "| 1 | 0 | 1 |\n",
    "| 0 | 1 | 1 |\n",
    "| 1 | 1 | 0 |"
   ]
  },
  {
   "cell_type": "code",
   "execution_count": 22,
   "metadata": {
    "scrolled": true
   },
   "outputs": [
    {
     "data": {
      "image/png": "[encoded data removed]",
      "text/plain": [
       "<matplotlib.figure.Figure at 0x7f4a7fd004a8>"
      ]
     },
     "metadata": {},
     "output_type": "display_data"
    }
   ],
   "source": [
    "import matplotlib.pyplot as plt\n",
    "\n",
    "plt.plot([0, 1], [1,0], 'bo')\n",
    "plt.plot([0, 1], [0,1],  'ro')\n",
    "plt.axis([-2, 2, -2, 2])\n",
    "\n",
    "plt.grid(True)\n",
    "plt.show()"
   ]
  },
  {
   "cell_type": "markdown",
   "metadata": {},
   "source": [
    "今まで、扱ってきたAND, NAND, ORゲートはうまく線形的に分割できる  \n",
    "以下の図がORゲートの関係を表す。４つの点うまく分離できる直線が引けることがわかる。  \n",
    "直線は、(w1, w2, b) = (1.0, 1.0, -0.5)の時を引いた。\n",
    "斜線部が0を出力する領域、それ以外は1を出力する領域。"
   ]
  },
  {
   "cell_type": "code",
   "execution_count": 21,
   "metadata": {
    "scrolled": true
   },
   "outputs": [
    {
     "data": {
      "image/png": "[encoded data removed]",
      "text/plain": [
       "<matplotlib.figure.Figure at 0x7f4a7fbf3438>"
      ]
     },
     "metadata": {},
     "output_type": "display_data"
    }
   ],
   "source": [
    "import matplotlib.pyplot as plt\n",
    "\n",
    "plt.plot([0, 1, 1], [1,0,1], 'bo')\n",
    "plt.plot(0, 0, 'ro')\n",
    "plt.axis([-2, 2, -2, 2])\n",
    "\n",
    "x = nu.arange(-2, 2.1, 0.1)\n",
    "plt.plot(x, -x+0.5, \"k\")\n",
    "plt.fill_between(x, -x+0.5, -2.0, facecolor='y', alpha=0.5)\n",
    "plt.grid(True)\n",
    "plt.show()"
   ]
  },
  {
   "cell_type": "markdown",
   "metadata": {},
   "source": [
    "## 多層パーセプトロン\n",
    "### 既存ゲートの組み合わせ\n",
    "既存ゲートを重ね合わせて、XORゲートの再現を試みる\n",
    "* ①入力をNANDとORゲートに入れる\n",
    "* ②NANDとORゲートの出力をANDゲートに入れる\n",
    "\n",
    "以下が、再現した表になる\n",
    "\n",
    "| x1 | x2 | s1 (NAND出力)| s2 (OR出力) | y (AND出力) |\n",
    "|:---:|:---:|:---:|:---:|:---:|\n",
    "| 0 | 0 | 1 | 0 | 0 |\n",
    "| 1 | 0 | 1 | 1 | 1 | \n",
    "| 0 | 1 | 1 | 1 | 1 |\n",
    "| 1 | 1 | 0 | 1 | 0 |\n",
    "\n",
    "### 実際の実装"
   ]
  },
  {
   "cell_type": "code",
   "execution_count": 50,
   "metadata": {
    "collapsed": true
   },
   "outputs": [],
   "source": [
    "def XOR(x1, x2):\n",
    "    s1 = NAND(x1, x2)\n",
    "    s2 = OR(x1, x2)\n",
    "    y = AND(s1, s2)\n",
    "    return y"
   ]
  },
  {
   "cell_type": "code",
   "execution_count": 51,
   "metadata": {},
   "outputs": [
    {
     "data": {
      "text/plain": [
       "0"
      ]
     },
     "execution_count": 51,
     "metadata": {},
     "output_type": "execute_result"
    }
   ],
   "source": [
    "XOR(0,0)"
   ]
  },
  {
   "cell_type": "code",
   "execution_count": 52,
   "metadata": {},
   "outputs": [
    {
     "data": {
      "text/plain": [
       "1"
      ]
     },
     "execution_count": 52,
     "metadata": {},
     "output_type": "execute_result"
    }
   ],
   "source": [
    "XOR(1,0)"
   ]
  },
  {
   "cell_type": "code",
   "execution_count": 53,
   "metadata": {},
   "outputs": [
    {
     "data": {
      "text/plain": [
       "1"
      ]
     },
     "execution_count": 53,
     "metadata": {},
     "output_type": "execute_result"
    }
   ],
   "source": [
    "XOR(0,1)"
   ]
  },
  {
   "cell_type": "code",
   "execution_count": 54,
   "metadata": {},
   "outputs": [
    {
     "data": {
      "text/plain": [
       "0"
      ]
     },
     "execution_count": 54,
     "metadata": {},
     "output_type": "execute_result"
    }
   ],
   "source": [
    "XOR(1,1)"
   ]
  },
  {
   "cell_type": "markdown",
   "metadata": {},
   "source": [
    "### 組み合わせによる展望\n",
    "* 重みをもつ層を数えて、以上のXORゲートは2層のパーセプトロンという\n",
    "* パーセプトロンは、層を重なることでより柔軟な表現が可能に\n",
    "* コンピューター => NANDゲートの組み合わせのみで表現できる => パーセプトロンのみでコンピューターを表現できる！\n",
    "* 多層パーセプトロンは、マクロに見れば単一のパーセプトロンとしても見れる"
   ]
  },
  {
   "cell_type": "markdown",
   "metadata": {},
   "source": [
    "# まとめ\n",
    "* パーセプトロンは入出力を備えたアルゴリズムである。ある入力を与えた ら、決まった値が出力される。\n",
    "* **パーセプトロンでは、「重み」と「バイアス」をパラメータとして設定する**。\n",
    "* パーセプトロンを用いれば、パラメータを変えることで、AND や OR ゲートなどの論理回路を表現できる。\n",
    "*  単層のパーセプトロンは線形領域だけしか表現できないのに対して、**多層のパーセプトロンは非線形領域を表現することができる**。  \n",
    "   ----- 多層パーセプトロンは任意の関数を表現可能\n",
    "* 多層のパーセプトロンは、(理論上)コンピュータを表現できる。"
   ]
  },
  {
   "cell_type": "code",
   "execution_count": null,
   "metadata": {
    "collapsed": true
   },
   "outputs": [],
   "source": []
  }
 ],
 "metadata": {
  "kernelspec": {
   "display_name": "Python 3",
   "language": "python",
   "name": "python3"
  },
  "language_info": {
   "codemirror_mode": {
    "name": "ipython",
    "version": 3
   },
   "file_extension": ".py",
   "mimetype": "text/x-python",
   "name": "python",
   "nbconvert_exporter": "python",
   "pygments_lexer": "ipython3",
   "version": "3.6.3"
  },
  "toc": {
   "nav_menu": {},
   "number_sections": true,
   "sideBar": true,
   "skip_h1_title": false,
   "title_cell": "Table of Contents",
   "title_sidebar": "Contents",
   "toc_cell": false,
   "toc_position": {},
   "toc_section_display": true,
   "toc_window_display": false
  }
 },
 "nbformat": 4,
 "nbformat_minor": 2
}
